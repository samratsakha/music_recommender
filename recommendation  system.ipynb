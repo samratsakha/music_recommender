{
 "cells": [
  {
   "cell_type": "markdown",
   "id": "40354766",
   "metadata": {},
   "source": [
    "## Music recommendation system using Nearest Neighbors"
   ]
  },
  {
   "cell_type": "markdown",
   "id": "a49c4aaf",
   "metadata": {},
   "source": [
    "### Importing the libraries"
   ]
  },
  {
   "cell_type": "code",
   "execution_count": 2,
   "id": "6ab45de8",
   "metadata": {},
   "outputs": [],
   "source": [
    "import pandas as pd\n",
    "import numpy as np\n",
    "import matplotlib.pyplot as plt\n",
    "import seaborn as sns"
   ]
  },
  {
   "cell_type": "code",
   "execution_count": 3,
   "id": "4badcb6c",
   "metadata": {},
   "outputs": [],
   "source": [
    "df1 = pd.read_csv('datasets/alternative_music_data.csv')\n",
    "df2 = pd.read_csv('datasets/blues_music_data.csv')\n",
    "df3 = pd.read_csv('datasets/hiphop_music_data.csv')\n",
    "df4 = pd.read_csv('datasets/indie_alt_music_data.csv')\n",
    "df5 = pd.read_csv('datasets/metal_music_data.csv')\n",
    "df6 = pd.read_csv('datasets/pop_music_data.csv')\n",
    "df7 = pd.read_csv('datasets/rock_music_data.csv')"
   ]
  },
  {
   "cell_type": "markdown",
   "id": "a08dcd12",
   "metadata": {},
   "source": [
    "### Combine into a single dataset"
   ]
  },
  {
   "cell_type": "code",
   "execution_count": 4,
   "id": "c15dd518",
   "metadata": {},
   "outputs": [],
   "source": [
    "df = df1.append([df2,df3,df4,df5,df6,df7])"
   ]
  },
  {
   "cell_type": "code",
   "execution_count": 5,
   "id": "a5d4d099",
   "metadata": {},
   "outputs": [
    {
     "data": {
      "text/html": [
       "<div>\n",
       "<style scoped>\n",
       "    .dataframe tbody tr th:only-of-type {\n",
       "        vertical-align: middle;\n",
       "    }\n",
       "\n",
       "    .dataframe tbody tr th {\n",
       "        vertical-align: top;\n",
       "    }\n",
       "\n",
       "    .dataframe thead th {\n",
       "        text-align: right;\n",
       "    }\n",
       "</style>\n",
       "<table border=\"1\" class=\"dataframe\">\n",
       "  <thead>\n",
       "    <tr style=\"text-align: right;\">\n",
       "      <th></th>\n",
       "      <th>Artist Name</th>\n",
       "      <th>Track Name</th>\n",
       "      <th>Popularity</th>\n",
       "      <th>Genres</th>\n",
       "      <th>Playlist</th>\n",
       "      <th>danceability</th>\n",
       "      <th>energy</th>\n",
       "      <th>key</th>\n",
       "      <th>loudness</th>\n",
       "      <th>mode</th>\n",
       "      <th>...</th>\n",
       "      <th>instrumentalness</th>\n",
       "      <th>liveness</th>\n",
       "      <th>valence</th>\n",
       "      <th>tempo</th>\n",
       "      <th>id</th>\n",
       "      <th>uri</th>\n",
       "      <th>track_href</th>\n",
       "      <th>analysis_url</th>\n",
       "      <th>duration_ms</th>\n",
       "      <th>time_signature</th>\n",
       "    </tr>\n",
       "  </thead>\n",
       "  <tbody>\n",
       "    <tr>\n",
       "      <th>0</th>\n",
       "      <td>James</td>\n",
       "      <td>Laid</td>\n",
       "      <td>66</td>\n",
       "      <td>['britpop', 'madchester', 'new wave', 'new wav...</td>\n",
       "      <td>Alternative 90s</td>\n",
       "      <td>0.457</td>\n",
       "      <td>0.909</td>\n",
       "      <td>0</td>\n",
       "      <td>-9.451</td>\n",
       "      <td>1</td>\n",
       "      <td>...</td>\n",
       "      <td>0.000276</td>\n",
       "      <td>0.1350</td>\n",
       "      <td>0.755</td>\n",
       "      <td>115.998</td>\n",
       "      <td>2CdS3DRqWR5LAhy4hM5X9W</td>\n",
       "      <td>spotify:track:2CdS3DRqWR5LAhy4hM5X9W</td>\n",
       "      <td>https://api.spotify.com/v1/tracks/2CdS3DRqWR5L...</td>\n",
       "      <td>https://api.spotify.com/v1/audio-analysis/2CdS...</td>\n",
       "      <td>156667</td>\n",
       "      <td>4</td>\n",
       "    </tr>\n",
       "    <tr>\n",
       "      <th>1</th>\n",
       "      <td>grandson</td>\n",
       "      <td>In Over My Head</td>\n",
       "      <td>60</td>\n",
       "      <td>['modern alternative rock', 'modern rock', 'ro...</td>\n",
       "      <td>Alternative Beats</td>\n",
       "      <td>0.582</td>\n",
       "      <td>0.817</td>\n",
       "      <td>0</td>\n",
       "      <td>-6.475</td>\n",
       "      <td>1</td>\n",
       "      <td>...</td>\n",
       "      <td>0.015800</td>\n",
       "      <td>0.5750</td>\n",
       "      <td>0.622</td>\n",
       "      <td>155.124</td>\n",
       "      <td>3r0mb1tzAcCNoA8YRXuIhZ</td>\n",
       "      <td>spotify:track:3r0mb1tzAcCNoA8YRXuIhZ</td>\n",
       "      <td>https://api.spotify.com/v1/tracks/3r0mb1tzAcCN...</td>\n",
       "      <td>https://api.spotify.com/v1/audio-analysis/3r0m...</td>\n",
       "      <td>198366</td>\n",
       "      <td>4</td>\n",
       "    </tr>\n",
       "    <tr>\n",
       "      <th>2</th>\n",
       "      <td>Foals</td>\n",
       "      <td>On The Luna</td>\n",
       "      <td>51</td>\n",
       "      <td>['alternative dance', 'indie rock', 'modern al...</td>\n",
       "      <td>Alternative 10s</td>\n",
       "      <td>0.525</td>\n",
       "      <td>0.976</td>\n",
       "      <td>0</td>\n",
       "      <td>-2.023</td>\n",
       "      <td>1</td>\n",
       "      <td>...</td>\n",
       "      <td>0.000392</td>\n",
       "      <td>0.0804</td>\n",
       "      <td>0.855</td>\n",
       "      <td>138.984</td>\n",
       "      <td>0Sfj5fPqZzCq9o3f1NNphz</td>\n",
       "      <td>spotify:track:0Sfj5fPqZzCq9o3f1NNphz</td>\n",
       "      <td>https://api.spotify.com/v1/tracks/0Sfj5fPqZzCq...</td>\n",
       "      <td>https://api.spotify.com/v1/audio-analysis/0Sfj...</td>\n",
       "      <td>192695</td>\n",
       "      <td>4</td>\n",
       "    </tr>\n",
       "    <tr>\n",
       "      <th>3</th>\n",
       "      <td>Longpigs</td>\n",
       "      <td>She Said</td>\n",
       "      <td>47</td>\n",
       "      <td>['britpop', 'sheffield indie']</td>\n",
       "      <td>Alternative 90s</td>\n",
       "      <td>0.210</td>\n",
       "      <td>0.870</td>\n",
       "      <td>5</td>\n",
       "      <td>-5.985</td>\n",
       "      <td>1</td>\n",
       "      <td>...</td>\n",
       "      <td>0.000488</td>\n",
       "      <td>0.1880</td>\n",
       "      <td>0.517</td>\n",
       "      <td>168.352</td>\n",
       "      <td>5J7l2wE9wxqod7xIP0jyAB</td>\n",
       "      <td>spotify:track:5J7l2wE9wxqod7xIP0jyAB</td>\n",
       "      <td>https://api.spotify.com/v1/tracks/5J7l2wE9wxqo...</td>\n",
       "      <td>https://api.spotify.com/v1/audio-analysis/5J7l...</td>\n",
       "      <td>264067</td>\n",
       "      <td>4</td>\n",
       "    </tr>\n",
       "    <tr>\n",
       "      <th>4</th>\n",
       "      <td>Beastie Boys</td>\n",
       "      <td>Sure Shot</td>\n",
       "      <td>57</td>\n",
       "      <td>['alternative rock', 'east coast hip hop', 'go...</td>\n",
       "      <td>Alternative 90s</td>\n",
       "      <td>0.692</td>\n",
       "      <td>0.799</td>\n",
       "      <td>1</td>\n",
       "      <td>-7.924</td>\n",
       "      <td>1</td>\n",
       "      <td>...</td>\n",
       "      <td>0.000000</td>\n",
       "      <td>0.3010</td>\n",
       "      <td>0.549</td>\n",
       "      <td>97.978</td>\n",
       "      <td>21REQ1bCUWphT2QK3bLWYQ</td>\n",
       "      <td>spotify:track:21REQ1bCUWphT2QK3bLWYQ</td>\n",
       "      <td>https://api.spotify.com/v1/tracks/21REQ1bCUWph...</td>\n",
       "      <td>https://api.spotify.com/v1/audio-analysis/21RE...</td>\n",
       "      <td>199667</td>\n",
       "      <td>4</td>\n",
       "    </tr>\n",
       "  </tbody>\n",
       "</table>\n",
       "<p>5 rows × 22 columns</p>\n",
       "</div>"
      ],
      "text/plain": [
       "    Artist Name       Track Name  Popularity  \\\n",
       "0         James             Laid          66   \n",
       "1      grandson  In Over My Head          60   \n",
       "2         Foals      On The Luna          51   \n",
       "3      Longpigs         She Said          47   \n",
       "4  Beastie Boys        Sure Shot          57   \n",
       "\n",
       "                                              Genres           Playlist  \\\n",
       "0  ['britpop', 'madchester', 'new wave', 'new wav...    Alternative 90s   \n",
       "1  ['modern alternative rock', 'modern rock', 'ro...  Alternative Beats   \n",
       "2  ['alternative dance', 'indie rock', 'modern al...    Alternative 10s   \n",
       "3                     ['britpop', 'sheffield indie']    Alternative 90s   \n",
       "4  ['alternative rock', 'east coast hip hop', 'go...    Alternative 90s   \n",
       "\n",
       "   danceability  energy  key  loudness  mode  ...  instrumentalness  liveness  \\\n",
       "0         0.457   0.909    0    -9.451     1  ...          0.000276    0.1350   \n",
       "1         0.582   0.817    0    -6.475     1  ...          0.015800    0.5750   \n",
       "2         0.525   0.976    0    -2.023     1  ...          0.000392    0.0804   \n",
       "3         0.210   0.870    5    -5.985     1  ...          0.000488    0.1880   \n",
       "4         0.692   0.799    1    -7.924     1  ...          0.000000    0.3010   \n",
       "\n",
       "   valence    tempo                      id  \\\n",
       "0    0.755  115.998  2CdS3DRqWR5LAhy4hM5X9W   \n",
       "1    0.622  155.124  3r0mb1tzAcCNoA8YRXuIhZ   \n",
       "2    0.855  138.984  0Sfj5fPqZzCq9o3f1NNphz   \n",
       "3    0.517  168.352  5J7l2wE9wxqod7xIP0jyAB   \n",
       "4    0.549   97.978  21REQ1bCUWphT2QK3bLWYQ   \n",
       "\n",
       "                                    uri  \\\n",
       "0  spotify:track:2CdS3DRqWR5LAhy4hM5X9W   \n",
       "1  spotify:track:3r0mb1tzAcCNoA8YRXuIhZ   \n",
       "2  spotify:track:0Sfj5fPqZzCq9o3f1NNphz   \n",
       "3  spotify:track:5J7l2wE9wxqod7xIP0jyAB   \n",
       "4  spotify:track:21REQ1bCUWphT2QK3bLWYQ   \n",
       "\n",
       "                                          track_href  \\\n",
       "0  https://api.spotify.com/v1/tracks/2CdS3DRqWR5L...   \n",
       "1  https://api.spotify.com/v1/tracks/3r0mb1tzAcCN...   \n",
       "2  https://api.spotify.com/v1/tracks/0Sfj5fPqZzCq...   \n",
       "3  https://api.spotify.com/v1/tracks/5J7l2wE9wxqo...   \n",
       "4  https://api.spotify.com/v1/tracks/21REQ1bCUWph...   \n",
       "\n",
       "                                        analysis_url duration_ms  \\\n",
       "0  https://api.spotify.com/v1/audio-analysis/2CdS...      156667   \n",
       "1  https://api.spotify.com/v1/audio-analysis/3r0m...      198366   \n",
       "2  https://api.spotify.com/v1/audio-analysis/0Sfj...      192695   \n",
       "3  https://api.spotify.com/v1/audio-analysis/5J7l...      264067   \n",
       "4  https://api.spotify.com/v1/audio-analysis/21RE...      199667   \n",
       "\n",
       "  time_signature  \n",
       "0              4  \n",
       "1              4  \n",
       "2              4  \n",
       "3              4  \n",
       "4              4  \n",
       "\n",
       "[5 rows x 22 columns]"
      ]
     },
     "execution_count": 5,
     "metadata": {},
     "output_type": "execute_result"
    }
   ],
   "source": [
    "df.head()"
   ]
  },
  {
   "cell_type": "code",
   "execution_count": 6,
   "id": "b3221212",
   "metadata": {},
   "outputs": [
    {
     "name": "stdout",
     "output_type": "stream",
     "text": [
      "<class 'pandas.core.frame.DataFrame'>\n",
      "Int64Index: 26752 entries, 0 to 8746\n",
      "Data columns (total 22 columns):\n",
      " #   Column            Non-Null Count  Dtype  \n",
      "---  ------            --------------  -----  \n",
      " 0   Artist Name       26752 non-null  object \n",
      " 1   Track Name        26752 non-null  object \n",
      " 2   Popularity        26752 non-null  int64  \n",
      " 3   Genres            26752 non-null  object \n",
      " 4   Playlist          26752 non-null  object \n",
      " 5   danceability      26752 non-null  float64\n",
      " 6   energy            26752 non-null  float64\n",
      " 7   key               26752 non-null  int64  \n",
      " 8   loudness          26752 non-null  float64\n",
      " 9   mode              26752 non-null  int64  \n",
      " 10  speechiness       26752 non-null  float64\n",
      " 11  acousticness      26752 non-null  float64\n",
      " 12  instrumentalness  26752 non-null  float64\n",
      " 13  liveness          26752 non-null  float64\n",
      " 14  valence           26752 non-null  float64\n",
      " 15  tempo             26752 non-null  float64\n",
      " 16  id                26752 non-null  object \n",
      " 17  uri               26752 non-null  object \n",
      " 18  track_href        26752 non-null  object \n",
      " 19  analysis_url      26752 non-null  object \n",
      " 20  duration_ms       26752 non-null  int64  \n",
      " 21  time_signature    26752 non-null  int64  \n",
      "dtypes: float64(9), int64(5), object(8)\n",
      "memory usage: 4.7+ MB\n"
     ]
    }
   ],
   "source": [
    "df.info()"
   ]
  },
  {
   "cell_type": "code",
   "execution_count": 7,
   "id": "754ce2a6",
   "metadata": {},
   "outputs": [],
   "source": [
    "total_len = len(df1) + len(df2) + len(df3) + len(df4) + len(df5) + len(df6) + len(df7)"
   ]
  },
  {
   "cell_type": "code",
   "execution_count": 8,
   "id": "ba07d673",
   "metadata": {},
   "outputs": [
    {
     "data": {
      "text/plain": [
       "26752"
      ]
     },
     "execution_count": 8,
     "metadata": {},
     "output_type": "execute_result"
    }
   ],
   "source": [
    "total_len"
   ]
  },
  {
   "cell_type": "code",
   "execution_count": 9,
   "id": "bef91c23",
   "metadata": {},
   "outputs": [
    {
     "data": {
      "text/html": [
       "<div>\n",
       "<style scoped>\n",
       "    .dataframe tbody tr th:only-of-type {\n",
       "        vertical-align: middle;\n",
       "    }\n",
       "\n",
       "    .dataframe tbody tr th {\n",
       "        vertical-align: top;\n",
       "    }\n",
       "\n",
       "    .dataframe thead th {\n",
       "        text-align: right;\n",
       "    }\n",
       "</style>\n",
       "<table border=\"1\" class=\"dataframe\">\n",
       "  <thead>\n",
       "    <tr style=\"text-align: right;\">\n",
       "      <th></th>\n",
       "      <th>Popularity</th>\n",
       "      <th>danceability</th>\n",
       "      <th>energy</th>\n",
       "      <th>key</th>\n",
       "      <th>loudness</th>\n",
       "      <th>mode</th>\n",
       "      <th>speechiness</th>\n",
       "      <th>acousticness</th>\n",
       "      <th>instrumentalness</th>\n",
       "      <th>liveness</th>\n",
       "      <th>valence</th>\n",
       "      <th>tempo</th>\n",
       "      <th>duration_ms</th>\n",
       "      <th>time_signature</th>\n",
       "    </tr>\n",
       "  </thead>\n",
       "  <tbody>\n",
       "    <tr>\n",
       "      <th>count</th>\n",
       "      <td>26752.000000</td>\n",
       "      <td>26752.000000</td>\n",
       "      <td>26752.000000</td>\n",
       "      <td>26752.000000</td>\n",
       "      <td>26752.000000</td>\n",
       "      <td>26752.000000</td>\n",
       "      <td>26752.000000</td>\n",
       "      <td>26752.000000</td>\n",
       "      <td>26752.000000</td>\n",
       "      <td>26752.000000</td>\n",
       "      <td>26752.000000</td>\n",
       "      <td>26752.000000</td>\n",
       "      <td>2.675200e+04</td>\n",
       "      <td>26752.000000</td>\n",
       "    </tr>\n",
       "    <tr>\n",
       "      <th>mean</th>\n",
       "      <td>46.603544</td>\n",
       "      <td>0.551091</td>\n",
       "      <td>0.698948</td>\n",
       "      <td>5.299604</td>\n",
       "      <td>-7.231568</td>\n",
       "      <td>0.623131</td>\n",
       "      <td>0.085210</td>\n",
       "      <td>0.186927</td>\n",
       "      <td>0.110631</td>\n",
       "      <td>0.198308</td>\n",
       "      <td>0.493760</td>\n",
       "      <td>123.791402</td>\n",
       "      <td>2.316677e+05</td>\n",
       "      <td>3.936379</td>\n",
       "    </tr>\n",
       "    <tr>\n",
       "      <th>std</th>\n",
       "      <td>18.890180</td>\n",
       "      <td>0.166505</td>\n",
       "      <td>0.210743</td>\n",
       "      <td>3.566726</td>\n",
       "      <td>3.312386</td>\n",
       "      <td>0.484611</td>\n",
       "      <td>0.087807</td>\n",
       "      <td>0.265412</td>\n",
       "      <td>0.246161</td>\n",
       "      <td>0.156232</td>\n",
       "      <td>0.233485</td>\n",
       "      <td>29.365056</td>\n",
       "      <td>7.955645e+04</td>\n",
       "      <td>0.334642</td>\n",
       "    </tr>\n",
       "    <tr>\n",
       "      <th>min</th>\n",
       "      <td>0.000000</td>\n",
       "      <td>0.000000</td>\n",
       "      <td>0.000020</td>\n",
       "      <td>0.000000</td>\n",
       "      <td>-34.825000</td>\n",
       "      <td>0.000000</td>\n",
       "      <td>0.000000</td>\n",
       "      <td>0.000000</td>\n",
       "      <td>0.000000</td>\n",
       "      <td>0.011900</td>\n",
       "      <td>0.000000</td>\n",
       "      <td>0.000000</td>\n",
       "      <td>1.379300e+04</td>\n",
       "      <td>0.000000</td>\n",
       "    </tr>\n",
       "    <tr>\n",
       "      <th>25%</th>\n",
       "      <td>34.000000</td>\n",
       "      <td>0.439000</td>\n",
       "      <td>0.558000</td>\n",
       "      <td>2.000000</td>\n",
       "      <td>-8.802000</td>\n",
       "      <td>0.000000</td>\n",
       "      <td>0.035800</td>\n",
       "      <td>0.002370</td>\n",
       "      <td>0.000000</td>\n",
       "      <td>0.097300</td>\n",
       "      <td>0.313000</td>\n",
       "      <td>100.017000</td>\n",
       "      <td>1.862860e+05</td>\n",
       "      <td>4.000000</td>\n",
       "    </tr>\n",
       "    <tr>\n",
       "      <th>50%</th>\n",
       "      <td>46.000000</td>\n",
       "      <td>0.550000</td>\n",
       "      <td>0.730000</td>\n",
       "      <td>5.000000</td>\n",
       "      <td>-6.599000</td>\n",
       "      <td>1.000000</td>\n",
       "      <td>0.050600</td>\n",
       "      <td>0.044450</td>\n",
       "      <td>0.000262</td>\n",
       "      <td>0.134000</td>\n",
       "      <td>0.490000</td>\n",
       "      <td>122.005000</td>\n",
       "      <td>2.176090e+05</td>\n",
       "      <td>4.000000</td>\n",
       "    </tr>\n",
       "    <tr>\n",
       "      <th>75%</th>\n",
       "      <td>60.000000</td>\n",
       "      <td>0.667000</td>\n",
       "      <td>0.877000</td>\n",
       "      <td>9.000000</td>\n",
       "      <td>-4.955000</td>\n",
       "      <td>1.000000</td>\n",
       "      <td>0.091300</td>\n",
       "      <td>0.285000</td>\n",
       "      <td>0.033400</td>\n",
       "      <td>0.267000</td>\n",
       "      <td>0.673000</td>\n",
       "      <td>143.373000</td>\n",
       "      <td>2.582270e+05</td>\n",
       "      <td>4.000000</td>\n",
       "    </tr>\n",
       "    <tr>\n",
       "      <th>max</th>\n",
       "      <td>100.000000</td>\n",
       "      <td>0.989000</td>\n",
       "      <td>1.000000</td>\n",
       "      <td>11.000000</td>\n",
       "      <td>1.355000</td>\n",
       "      <td>1.000000</td>\n",
       "      <td>0.960000</td>\n",
       "      <td>0.996000</td>\n",
       "      <td>0.996000</td>\n",
       "      <td>0.992000</td>\n",
       "      <td>0.986000</td>\n",
       "      <td>249.438000</td>\n",
       "      <td>1.561133e+06</td>\n",
       "      <td>5.000000</td>\n",
       "    </tr>\n",
       "  </tbody>\n",
       "</table>\n",
       "</div>"
      ],
      "text/plain": [
       "         Popularity  danceability        energy           key      loudness  \\\n",
       "count  26752.000000  26752.000000  26752.000000  26752.000000  26752.000000   \n",
       "mean      46.603544      0.551091      0.698948      5.299604     -7.231568   \n",
       "std       18.890180      0.166505      0.210743      3.566726      3.312386   \n",
       "min        0.000000      0.000000      0.000020      0.000000    -34.825000   \n",
       "25%       34.000000      0.439000      0.558000      2.000000     -8.802000   \n",
       "50%       46.000000      0.550000      0.730000      5.000000     -6.599000   \n",
       "75%       60.000000      0.667000      0.877000      9.000000     -4.955000   \n",
       "max      100.000000      0.989000      1.000000     11.000000      1.355000   \n",
       "\n",
       "               mode   speechiness  acousticness  instrumentalness  \\\n",
       "count  26752.000000  26752.000000  26752.000000      26752.000000   \n",
       "mean       0.623131      0.085210      0.186927          0.110631   \n",
       "std        0.484611      0.087807      0.265412          0.246161   \n",
       "min        0.000000      0.000000      0.000000          0.000000   \n",
       "25%        0.000000      0.035800      0.002370          0.000000   \n",
       "50%        1.000000      0.050600      0.044450          0.000262   \n",
       "75%        1.000000      0.091300      0.285000          0.033400   \n",
       "max        1.000000      0.960000      0.996000          0.996000   \n",
       "\n",
       "           liveness       valence         tempo   duration_ms  time_signature  \n",
       "count  26752.000000  26752.000000  26752.000000  2.675200e+04    26752.000000  \n",
       "mean       0.198308      0.493760    123.791402  2.316677e+05        3.936379  \n",
       "std        0.156232      0.233485     29.365056  7.955645e+04        0.334642  \n",
       "min        0.011900      0.000000      0.000000  1.379300e+04        0.000000  \n",
       "25%        0.097300      0.313000    100.017000  1.862860e+05        4.000000  \n",
       "50%        0.134000      0.490000    122.005000  2.176090e+05        4.000000  \n",
       "75%        0.267000      0.673000    143.373000  2.582270e+05        4.000000  \n",
       "max        0.992000      0.986000    249.438000  1.561133e+06        5.000000  "
      ]
     },
     "execution_count": 9,
     "metadata": {},
     "output_type": "execute_result"
    }
   ],
   "source": [
    "df.describe()"
   ]
  },
  {
   "cell_type": "markdown",
   "id": "0bf472f7",
   "metadata": {},
   "source": [
    "### Filter and keep only unique songs"
   ]
  },
  {
   "cell_type": "code",
   "execution_count": 10,
   "id": "3136e035",
   "metadata": {},
   "outputs": [],
   "source": [
    "df['unique_songs'] = df['Track Name'] + ' ' + df['Artist Name']"
   ]
  },
  {
   "cell_type": "code",
   "execution_count": 12,
   "id": "d817cae0",
   "metadata": {},
   "outputs": [
    {
     "data": {
      "text/plain": [
       "18554"
      ]
     },
     "execution_count": 12,
     "metadata": {},
     "output_type": "execute_result"
    }
   ],
   "source": [
    "len(df['unique_songs'].unique())"
   ]
  },
  {
   "cell_type": "code",
   "execution_count": 13,
   "id": "e50726e5",
   "metadata": {},
   "outputs": [],
   "source": [
    "df = df.drop_duplicates(subset = \"unique_songs\")"
   ]
  },
  {
   "cell_type": "code",
   "execution_count": 14,
   "id": "bf1bccd0",
   "metadata": {},
   "outputs": [
    {
     "data": {
      "text/plain": [
       "18554"
      ]
     },
     "execution_count": 14,
     "metadata": {},
     "output_type": "execute_result"
    }
   ],
   "source": [
    "len(df)"
   ]
  },
  {
   "cell_type": "code",
   "execution_count": 35,
   "id": "198b25c2",
   "metadata": {},
   "outputs": [
    {
     "data": {
      "text/html": [
       "<div>\n",
       "<style scoped>\n",
       "    .dataframe tbody tr th:only-of-type {\n",
       "        vertical-align: middle;\n",
       "    }\n",
       "\n",
       "    .dataframe tbody tr th {\n",
       "        vertical-align: top;\n",
       "    }\n",
       "\n",
       "    .dataframe thead th {\n",
       "        text-align: right;\n",
       "    }\n",
       "</style>\n",
       "<table border=\"1\" class=\"dataframe\">\n",
       "  <thead>\n",
       "    <tr style=\"text-align: right;\">\n",
       "      <th></th>\n",
       "      <th>Artist Name</th>\n",
       "      <th>Track Name</th>\n",
       "      <th>Popularity</th>\n",
       "      <th>Genres</th>\n",
       "      <th>Playlist</th>\n",
       "      <th>danceability</th>\n",
       "      <th>energy</th>\n",
       "      <th>key</th>\n",
       "      <th>loudness</th>\n",
       "      <th>mode</th>\n",
       "      <th>...</th>\n",
       "      <th>liveness</th>\n",
       "      <th>valence</th>\n",
       "      <th>tempo</th>\n",
       "      <th>id</th>\n",
       "      <th>uri</th>\n",
       "      <th>track_href</th>\n",
       "      <th>analysis_url</th>\n",
       "      <th>duration_ms</th>\n",
       "      <th>time_signature</th>\n",
       "      <th>unique_songs</th>\n",
       "    </tr>\n",
       "  </thead>\n",
       "  <tbody>\n",
       "    <tr>\n",
       "      <th>0</th>\n",
       "      <td>James</td>\n",
       "      <td>Laid</td>\n",
       "      <td>66</td>\n",
       "      <td>['britpop', 'madchester', 'new wave', 'new wav...</td>\n",
       "      <td>Alternative 90s</td>\n",
       "      <td>0.457</td>\n",
       "      <td>0.909</td>\n",
       "      <td>0</td>\n",
       "      <td>-9.451</td>\n",
       "      <td>1</td>\n",
       "      <td>...</td>\n",
       "      <td>0.1350</td>\n",
       "      <td>0.755</td>\n",
       "      <td>115.998</td>\n",
       "      <td>2CdS3DRqWR5LAhy4hM5X9W</td>\n",
       "      <td>spotify:track:2CdS3DRqWR5LAhy4hM5X9W</td>\n",
       "      <td>https://api.spotify.com/v1/tracks/2CdS3DRqWR5L...</td>\n",
       "      <td>https://api.spotify.com/v1/audio-analysis/2CdS...</td>\n",
       "      <td>156667</td>\n",
       "      <td>4</td>\n",
       "      <td>Laid James</td>\n",
       "    </tr>\n",
       "    <tr>\n",
       "      <th>1</th>\n",
       "      <td>grandson</td>\n",
       "      <td>In Over My Head</td>\n",
       "      <td>60</td>\n",
       "      <td>['modern alternative rock', 'modern rock', 'ro...</td>\n",
       "      <td>Alternative Beats</td>\n",
       "      <td>0.582</td>\n",
       "      <td>0.817</td>\n",
       "      <td>0</td>\n",
       "      <td>-6.475</td>\n",
       "      <td>1</td>\n",
       "      <td>...</td>\n",
       "      <td>0.5750</td>\n",
       "      <td>0.622</td>\n",
       "      <td>155.124</td>\n",
       "      <td>3r0mb1tzAcCNoA8YRXuIhZ</td>\n",
       "      <td>spotify:track:3r0mb1tzAcCNoA8YRXuIhZ</td>\n",
       "      <td>https://api.spotify.com/v1/tracks/3r0mb1tzAcCN...</td>\n",
       "      <td>https://api.spotify.com/v1/audio-analysis/3r0m...</td>\n",
       "      <td>198366</td>\n",
       "      <td>4</td>\n",
       "      <td>In Over My Head grandson</td>\n",
       "    </tr>\n",
       "    <tr>\n",
       "      <th>2</th>\n",
       "      <td>Foals</td>\n",
       "      <td>On The Luna</td>\n",
       "      <td>51</td>\n",
       "      <td>['alternative dance', 'indie rock', 'modern al...</td>\n",
       "      <td>Alternative 10s</td>\n",
       "      <td>0.525</td>\n",
       "      <td>0.976</td>\n",
       "      <td>0</td>\n",
       "      <td>-2.023</td>\n",
       "      <td>1</td>\n",
       "      <td>...</td>\n",
       "      <td>0.0804</td>\n",
       "      <td>0.855</td>\n",
       "      <td>138.984</td>\n",
       "      <td>0Sfj5fPqZzCq9o3f1NNphz</td>\n",
       "      <td>spotify:track:0Sfj5fPqZzCq9o3f1NNphz</td>\n",
       "      <td>https://api.spotify.com/v1/tracks/0Sfj5fPqZzCq...</td>\n",
       "      <td>https://api.spotify.com/v1/audio-analysis/0Sfj...</td>\n",
       "      <td>192695</td>\n",
       "      <td>4</td>\n",
       "      <td>On The Luna Foals</td>\n",
       "    </tr>\n",
       "    <tr>\n",
       "      <th>3</th>\n",
       "      <td>Longpigs</td>\n",
       "      <td>She Said</td>\n",
       "      <td>47</td>\n",
       "      <td>['britpop', 'sheffield indie']</td>\n",
       "      <td>Alternative 90s</td>\n",
       "      <td>0.210</td>\n",
       "      <td>0.870</td>\n",
       "      <td>5</td>\n",
       "      <td>-5.985</td>\n",
       "      <td>1</td>\n",
       "      <td>...</td>\n",
       "      <td>0.1880</td>\n",
       "      <td>0.517</td>\n",
       "      <td>168.352</td>\n",
       "      <td>5J7l2wE9wxqod7xIP0jyAB</td>\n",
       "      <td>spotify:track:5J7l2wE9wxqod7xIP0jyAB</td>\n",
       "      <td>https://api.spotify.com/v1/tracks/5J7l2wE9wxqo...</td>\n",
       "      <td>https://api.spotify.com/v1/audio-analysis/5J7l...</td>\n",
       "      <td>264067</td>\n",
       "      <td>4</td>\n",
       "      <td>She Said Longpigs</td>\n",
       "    </tr>\n",
       "    <tr>\n",
       "      <th>4</th>\n",
       "      <td>Beastie Boys</td>\n",
       "      <td>Sure Shot</td>\n",
       "      <td>57</td>\n",
       "      <td>['alternative rock', 'east coast hip hop', 'go...</td>\n",
       "      <td>Alternative 90s</td>\n",
       "      <td>0.692</td>\n",
       "      <td>0.799</td>\n",
       "      <td>1</td>\n",
       "      <td>-7.924</td>\n",
       "      <td>1</td>\n",
       "      <td>...</td>\n",
       "      <td>0.3010</td>\n",
       "      <td>0.549</td>\n",
       "      <td>97.978</td>\n",
       "      <td>21REQ1bCUWphT2QK3bLWYQ</td>\n",
       "      <td>spotify:track:21REQ1bCUWphT2QK3bLWYQ</td>\n",
       "      <td>https://api.spotify.com/v1/tracks/21REQ1bCUWph...</td>\n",
       "      <td>https://api.spotify.com/v1/audio-analysis/21RE...</td>\n",
       "      <td>199667</td>\n",
       "      <td>4</td>\n",
       "      <td>Sure Shot Beastie Boys</td>\n",
       "    </tr>\n",
       "  </tbody>\n",
       "</table>\n",
       "<p>5 rows × 23 columns</p>\n",
       "</div>"
      ],
      "text/plain": [
       "    Artist Name       Track Name  Popularity  \\\n",
       "0         James             Laid          66   \n",
       "1      grandson  In Over My Head          60   \n",
       "2         Foals      On The Luna          51   \n",
       "3      Longpigs         She Said          47   \n",
       "4  Beastie Boys        Sure Shot          57   \n",
       "\n",
       "                                              Genres           Playlist  \\\n",
       "0  ['britpop', 'madchester', 'new wave', 'new wav...    Alternative 90s   \n",
       "1  ['modern alternative rock', 'modern rock', 'ro...  Alternative Beats   \n",
       "2  ['alternative dance', 'indie rock', 'modern al...    Alternative 10s   \n",
       "3                     ['britpop', 'sheffield indie']    Alternative 90s   \n",
       "4  ['alternative rock', 'east coast hip hop', 'go...    Alternative 90s   \n",
       "\n",
       "   danceability  energy  key  loudness  mode  ...  liveness  valence    tempo  \\\n",
       "0         0.457   0.909    0    -9.451     1  ...    0.1350    0.755  115.998   \n",
       "1         0.582   0.817    0    -6.475     1  ...    0.5750    0.622  155.124   \n",
       "2         0.525   0.976    0    -2.023     1  ...    0.0804    0.855  138.984   \n",
       "3         0.210   0.870    5    -5.985     1  ...    0.1880    0.517  168.352   \n",
       "4         0.692   0.799    1    -7.924     1  ...    0.3010    0.549   97.978   \n",
       "\n",
       "                       id                                   uri  \\\n",
       "0  2CdS3DRqWR5LAhy4hM5X9W  spotify:track:2CdS3DRqWR5LAhy4hM5X9W   \n",
       "1  3r0mb1tzAcCNoA8YRXuIhZ  spotify:track:3r0mb1tzAcCNoA8YRXuIhZ   \n",
       "2  0Sfj5fPqZzCq9o3f1NNphz  spotify:track:0Sfj5fPqZzCq9o3f1NNphz   \n",
       "3  5J7l2wE9wxqod7xIP0jyAB  spotify:track:5J7l2wE9wxqod7xIP0jyAB   \n",
       "4  21REQ1bCUWphT2QK3bLWYQ  spotify:track:21REQ1bCUWphT2QK3bLWYQ   \n",
       "\n",
       "                                          track_href  \\\n",
       "0  https://api.spotify.com/v1/tracks/2CdS3DRqWR5L...   \n",
       "1  https://api.spotify.com/v1/tracks/3r0mb1tzAcCN...   \n",
       "2  https://api.spotify.com/v1/tracks/0Sfj5fPqZzCq...   \n",
       "3  https://api.spotify.com/v1/tracks/5J7l2wE9wxqo...   \n",
       "4  https://api.spotify.com/v1/tracks/21REQ1bCUWph...   \n",
       "\n",
       "                                        analysis_url duration_ms  \\\n",
       "0  https://api.spotify.com/v1/audio-analysis/2CdS...      156667   \n",
       "1  https://api.spotify.com/v1/audio-analysis/3r0m...      198366   \n",
       "2  https://api.spotify.com/v1/audio-analysis/0Sfj...      192695   \n",
       "3  https://api.spotify.com/v1/audio-analysis/5J7l...      264067   \n",
       "4  https://api.spotify.com/v1/audio-analysis/21RE...      199667   \n",
       "\n",
       "  time_signature              unique_songs  \n",
       "0              4                Laid James  \n",
       "1              4  In Over My Head grandson  \n",
       "2              4         On The Luna Foals  \n",
       "3              4         She Said Longpigs  \n",
       "4              4    Sure Shot Beastie Boys  \n",
       "\n",
       "[5 rows x 23 columns]"
      ]
     },
     "execution_count": 35,
     "metadata": {},
     "output_type": "execute_result"
    }
   ],
   "source": [
    "df.head()"
   ]
  },
  {
   "cell_type": "code",
   "execution_count": 15,
   "id": "48ae6b42",
   "metadata": {},
   "outputs": [
    {
     "data": {
      "text/html": [
       "<div>\n",
       "<style scoped>\n",
       "    .dataframe tbody tr th:only-of-type {\n",
       "        vertical-align: middle;\n",
       "    }\n",
       "\n",
       "    .dataframe tbody tr th {\n",
       "        vertical-align: top;\n",
       "    }\n",
       "\n",
       "    .dataframe thead th {\n",
       "        text-align: right;\n",
       "    }\n",
       "</style>\n",
       "<table border=\"1\" class=\"dataframe\">\n",
       "  <thead>\n",
       "    <tr style=\"text-align: right;\">\n",
       "      <th></th>\n",
       "      <th>Popularity</th>\n",
       "      <th>danceability</th>\n",
       "      <th>energy</th>\n",
       "      <th>key</th>\n",
       "      <th>loudness</th>\n",
       "      <th>mode</th>\n",
       "      <th>speechiness</th>\n",
       "      <th>acousticness</th>\n",
       "      <th>instrumentalness</th>\n",
       "      <th>liveness</th>\n",
       "      <th>valence</th>\n",
       "      <th>tempo</th>\n",
       "      <th>duration_ms</th>\n",
       "      <th>time_signature</th>\n",
       "    </tr>\n",
       "  </thead>\n",
       "  <tbody>\n",
       "    <tr>\n",
       "      <th>count</th>\n",
       "      <td>18554.000000</td>\n",
       "      <td>18554.000000</td>\n",
       "      <td>18554.000000</td>\n",
       "      <td>18554.000000</td>\n",
       "      <td>18554.000000</td>\n",
       "      <td>18554.000000</td>\n",
       "      <td>18554.000000</td>\n",
       "      <td>18554.000000</td>\n",
       "      <td>18554.000000</td>\n",
       "      <td>18554.000000</td>\n",
       "      <td>18554.000000</td>\n",
       "      <td>18554.000000</td>\n",
       "      <td>1.855400e+04</td>\n",
       "      <td>18554.000000</td>\n",
       "    </tr>\n",
       "    <tr>\n",
       "      <th>mean</th>\n",
       "      <td>43.289749</td>\n",
       "      <td>0.550664</td>\n",
       "      <td>0.685335</td>\n",
       "      <td>5.298696</td>\n",
       "      <td>-7.484237</td>\n",
       "      <td>0.616094</td>\n",
       "      <td>0.086660</td>\n",
       "      <td>0.209960</td>\n",
       "      <td>0.120406</td>\n",
       "      <td>0.199013</td>\n",
       "      <td>0.486306</td>\n",
       "      <td>123.240500</td>\n",
       "      <td>2.360681e+05</td>\n",
       "      <td>3.929234</td>\n",
       "    </tr>\n",
       "    <tr>\n",
       "      <th>std</th>\n",
       "      <td>17.690093</td>\n",
       "      <td>0.169173</td>\n",
       "      <td>0.219051</td>\n",
       "      <td>3.572298</td>\n",
       "      <td>3.502007</td>\n",
       "      <td>0.486349</td>\n",
       "      <td>0.090623</td>\n",
       "      <td>0.279604</td>\n",
       "      <td>0.258036</td>\n",
       "      <td>0.159602</td>\n",
       "      <td>0.237177</td>\n",
       "      <td>29.606419</td>\n",
       "      <td>8.479569e+04</td>\n",
       "      <td>0.353779</td>\n",
       "    </tr>\n",
       "    <tr>\n",
       "      <th>min</th>\n",
       "      <td>0.000000</td>\n",
       "      <td>0.000000</td>\n",
       "      <td>0.000020</td>\n",
       "      <td>0.000000</td>\n",
       "      <td>-34.825000</td>\n",
       "      <td>0.000000</td>\n",
       "      <td>0.000000</td>\n",
       "      <td>0.000000</td>\n",
       "      <td>0.000000</td>\n",
       "      <td>0.011900</td>\n",
       "      <td>0.000000</td>\n",
       "      <td>0.000000</td>\n",
       "      <td>1.379300e+04</td>\n",
       "      <td>0.000000</td>\n",
       "    </tr>\n",
       "    <tr>\n",
       "      <th>25%</th>\n",
       "      <td>32.000000</td>\n",
       "      <td>0.436000</td>\n",
       "      <td>0.537000</td>\n",
       "      <td>2.000000</td>\n",
       "      <td>-9.113000</td>\n",
       "      <td>0.000000</td>\n",
       "      <td>0.035600</td>\n",
       "      <td>0.003100</td>\n",
       "      <td>0.000001</td>\n",
       "      <td>0.097600</td>\n",
       "      <td>0.301000</td>\n",
       "      <td>99.952250</td>\n",
       "      <td>1.886000e+05</td>\n",
       "      <td>4.000000</td>\n",
       "    </tr>\n",
       "    <tr>\n",
       "      <th>50%</th>\n",
       "      <td>43.000000</td>\n",
       "      <td>0.551000</td>\n",
       "      <td>0.716000</td>\n",
       "      <td>5.000000</td>\n",
       "      <td>-6.817000</td>\n",
       "      <td>1.000000</td>\n",
       "      <td>0.050300</td>\n",
       "      <td>0.061200</td>\n",
       "      <td>0.000313</td>\n",
       "      <td>0.132000</td>\n",
       "      <td>0.481000</td>\n",
       "      <td>120.993500</td>\n",
       "      <td>2.205740e+05</td>\n",
       "      <td>4.000000</td>\n",
       "    </tr>\n",
       "    <tr>\n",
       "      <th>75%</th>\n",
       "      <td>55.000000</td>\n",
       "      <td>0.670000</td>\n",
       "      <td>0.872000</td>\n",
       "      <td>9.000000</td>\n",
       "      <td>-5.082250</td>\n",
       "      <td>1.000000</td>\n",
       "      <td>0.092475</td>\n",
       "      <td>0.339000</td>\n",
       "      <td>0.042575</td>\n",
       "      <td>0.265000</td>\n",
       "      <td>0.669000</td>\n",
       "      <td>142.177000</td>\n",
       "      <td>2.624905e+05</td>\n",
       "      <td>4.000000</td>\n",
       "    </tr>\n",
       "    <tr>\n",
       "      <th>max</th>\n",
       "      <td>100.000000</td>\n",
       "      <td>0.989000</td>\n",
       "      <td>1.000000</td>\n",
       "      <td>11.000000</td>\n",
       "      <td>1.355000</td>\n",
       "      <td>1.000000</td>\n",
       "      <td>0.960000</td>\n",
       "      <td>0.996000</td>\n",
       "      <td>0.996000</td>\n",
       "      <td>0.992000</td>\n",
       "      <td>0.986000</td>\n",
       "      <td>249.438000</td>\n",
       "      <td>1.561133e+06</td>\n",
       "      <td>5.000000</td>\n",
       "    </tr>\n",
       "  </tbody>\n",
       "</table>\n",
       "</div>"
      ],
      "text/plain": [
       "         Popularity  danceability        energy           key      loudness  \\\n",
       "count  18554.000000  18554.000000  18554.000000  18554.000000  18554.000000   \n",
       "mean      43.289749      0.550664      0.685335      5.298696     -7.484237   \n",
       "std       17.690093      0.169173      0.219051      3.572298      3.502007   \n",
       "min        0.000000      0.000000      0.000020      0.000000    -34.825000   \n",
       "25%       32.000000      0.436000      0.537000      2.000000     -9.113000   \n",
       "50%       43.000000      0.551000      0.716000      5.000000     -6.817000   \n",
       "75%       55.000000      0.670000      0.872000      9.000000     -5.082250   \n",
       "max      100.000000      0.989000      1.000000     11.000000      1.355000   \n",
       "\n",
       "               mode   speechiness  acousticness  instrumentalness  \\\n",
       "count  18554.000000  18554.000000  18554.000000      18554.000000   \n",
       "mean       0.616094      0.086660      0.209960          0.120406   \n",
       "std        0.486349      0.090623      0.279604          0.258036   \n",
       "min        0.000000      0.000000      0.000000          0.000000   \n",
       "25%        0.000000      0.035600      0.003100          0.000001   \n",
       "50%        1.000000      0.050300      0.061200          0.000313   \n",
       "75%        1.000000      0.092475      0.339000          0.042575   \n",
       "max        1.000000      0.960000      0.996000          0.996000   \n",
       "\n",
       "           liveness       valence         tempo   duration_ms  time_signature  \n",
       "count  18554.000000  18554.000000  18554.000000  1.855400e+04    18554.000000  \n",
       "mean       0.199013      0.486306    123.240500  2.360681e+05        3.929234  \n",
       "std        0.159602      0.237177     29.606419  8.479569e+04        0.353779  \n",
       "min        0.011900      0.000000      0.000000  1.379300e+04        0.000000  \n",
       "25%        0.097600      0.301000     99.952250  1.886000e+05        4.000000  \n",
       "50%        0.132000      0.481000    120.993500  2.205740e+05        4.000000  \n",
       "75%        0.265000      0.669000    142.177000  2.624905e+05        4.000000  \n",
       "max        0.992000      0.986000    249.438000  1.561133e+06        5.000000  "
      ]
     },
     "execution_count": 15,
     "metadata": {},
     "output_type": "execute_result"
    }
   ],
   "source": [
    "df.describe()"
   ]
  },
  {
   "cell_type": "code",
   "execution_count": 17,
   "id": "66697451",
   "metadata": {},
   "outputs": [],
   "source": [
    "features = df.describe().columns"
   ]
  },
  {
   "cell_type": "code",
   "execution_count": 19,
   "id": "c709c08e",
   "metadata": {},
   "outputs": [],
   "source": [
    "df_cleaned = df[features].copy()"
   ]
  },
  {
   "cell_type": "markdown",
   "id": "724f7f09",
   "metadata": {},
   "source": [
    "### Analysis on the dataset"
   ]
  },
  {
   "cell_type": "code",
   "execution_count": 20,
   "id": "3cf8f2d5",
   "metadata": {},
   "outputs": [
    {
     "data": {
      "text/html": [
       "<div>\n",
       "<style scoped>\n",
       "    .dataframe tbody tr th:only-of-type {\n",
       "        vertical-align: middle;\n",
       "    }\n",
       "\n",
       "    .dataframe tbody tr th {\n",
       "        vertical-align: top;\n",
       "    }\n",
       "\n",
       "    .dataframe thead th {\n",
       "        text-align: right;\n",
       "    }\n",
       "</style>\n",
       "<table border=\"1\" class=\"dataframe\">\n",
       "  <thead>\n",
       "    <tr style=\"text-align: right;\">\n",
       "      <th></th>\n",
       "      <th>Popularity</th>\n",
       "      <th>danceability</th>\n",
       "      <th>energy</th>\n",
       "      <th>key</th>\n",
       "      <th>loudness</th>\n",
       "      <th>mode</th>\n",
       "      <th>speechiness</th>\n",
       "      <th>acousticness</th>\n",
       "      <th>instrumentalness</th>\n",
       "      <th>liveness</th>\n",
       "      <th>valence</th>\n",
       "      <th>tempo</th>\n",
       "      <th>duration_ms</th>\n",
       "      <th>time_signature</th>\n",
       "    </tr>\n",
       "  </thead>\n",
       "  <tbody>\n",
       "    <tr>\n",
       "      <th>Popularity</th>\n",
       "      <td>1.000000</td>\n",
       "      <td>0.132513</td>\n",
       "      <td>0.021677</td>\n",
       "      <td>-0.004728</td>\n",
       "      <td>0.112898</td>\n",
       "      <td>0.017165</td>\n",
       "      <td>0.033313</td>\n",
       "      <td>-0.084926</td>\n",
       "      <td>-0.178058</td>\n",
       "      <td>-0.063094</td>\n",
       "      <td>0.048331</td>\n",
       "      <td>-0.015046</td>\n",
       "      <td>-0.063273</td>\n",
       "      <td>0.051997</td>\n",
       "    </tr>\n",
       "    <tr>\n",
       "      <th>danceability</th>\n",
       "      <td>0.132513</td>\n",
       "      <td>1.000000</td>\n",
       "      <td>-0.193858</td>\n",
       "      <td>0.010960</td>\n",
       "      <td>-0.032638</td>\n",
       "      <td>-0.062577</td>\n",
       "      <td>0.205668</td>\n",
       "      <td>0.089161</td>\n",
       "      <td>-0.204042</td>\n",
       "      <td>-0.121727</td>\n",
       "      <td>0.447822</td>\n",
       "      <td>-0.208472</td>\n",
       "      <td>-0.256813</td>\n",
       "      <td>0.134895</td>\n",
       "    </tr>\n",
       "    <tr>\n",
       "      <th>energy</th>\n",
       "      <td>0.021677</td>\n",
       "      <td>-0.193858</td>\n",
       "      <td>1.000000</td>\n",
       "      <td>0.017868</td>\n",
       "      <td>0.730107</td>\n",
       "      <td>-0.014122</td>\n",
       "      <td>0.092031</td>\n",
       "      <td>-0.700193</td>\n",
       "      <td>-0.005295</td>\n",
       "      <td>0.187063</td>\n",
       "      <td>0.140430</td>\n",
       "      <td>0.182729</td>\n",
       "      <td>0.012026</td>\n",
       "      <td>0.128287</td>\n",
       "    </tr>\n",
       "    <tr>\n",
       "      <th>key</th>\n",
       "      <td>-0.004728</td>\n",
       "      <td>0.010960</td>\n",
       "      <td>0.017868</td>\n",
       "      <td>1.000000</td>\n",
       "      <td>-0.005034</td>\n",
       "      <td>-0.150879</td>\n",
       "      <td>0.014626</td>\n",
       "      <td>-0.003517</td>\n",
       "      <td>0.019822</td>\n",
       "      <td>-0.001241</td>\n",
       "      <td>0.021301</td>\n",
       "      <td>0.003715</td>\n",
       "      <td>0.009707</td>\n",
       "      <td>0.008026</td>\n",
       "    </tr>\n",
       "    <tr>\n",
       "      <th>loudness</th>\n",
       "      <td>0.112898</td>\n",
       "      <td>-0.032638</td>\n",
       "      <td>0.730107</td>\n",
       "      <td>-0.005034</td>\n",
       "      <td>1.000000</td>\n",
       "      <td>-0.029048</td>\n",
       "      <td>0.064302</td>\n",
       "      <td>-0.538651</td>\n",
       "      <td>-0.217532</td>\n",
       "      <td>0.091735</td>\n",
       "      <td>0.100320</td>\n",
       "      <td>0.130949</td>\n",
       "      <td>-0.119737</td>\n",
       "      <td>0.109259</td>\n",
       "    </tr>\n",
       "    <tr>\n",
       "      <th>mode</th>\n",
       "      <td>0.017165</td>\n",
       "      <td>-0.062577</td>\n",
       "      <td>-0.014122</td>\n",
       "      <td>-0.150879</td>\n",
       "      <td>-0.029048</td>\n",
       "      <td>1.000000</td>\n",
       "      <td>-0.057342</td>\n",
       "      <td>0.005796</td>\n",
       "      <td>0.003279</td>\n",
       "      <td>0.004105</td>\n",
       "      <td>0.000811</td>\n",
       "      <td>0.021988</td>\n",
       "      <td>-0.011519</td>\n",
       "      <td>-0.011612</td>\n",
       "    </tr>\n",
       "    <tr>\n",
       "      <th>speechiness</th>\n",
       "      <td>0.033313</td>\n",
       "      <td>0.205668</td>\n",
       "      <td>0.092031</td>\n",
       "      <td>0.014626</td>\n",
       "      <td>0.064302</td>\n",
       "      <td>-0.057342</td>\n",
       "      <td>1.000000</td>\n",
       "      <td>-0.063727</td>\n",
       "      <td>-0.101154</td>\n",
       "      <td>0.075156</td>\n",
       "      <td>0.046338</td>\n",
       "      <td>0.043796</td>\n",
       "      <td>-0.137000</td>\n",
       "      <td>0.058654</td>\n",
       "    </tr>\n",
       "    <tr>\n",
       "      <th>acousticness</th>\n",
       "      <td>-0.084926</td>\n",
       "      <td>0.089161</td>\n",
       "      <td>-0.700193</td>\n",
       "      <td>-0.003517</td>\n",
       "      <td>-0.538651</td>\n",
       "      <td>0.005796</td>\n",
       "      <td>-0.063727</td>\n",
       "      <td>1.000000</td>\n",
       "      <td>0.008665</td>\n",
       "      <td>-0.101447</td>\n",
       "      <td>-0.057286</td>\n",
       "      <td>-0.144261</td>\n",
       "      <td>-0.057369</td>\n",
       "      <td>-0.111524</td>\n",
       "    </tr>\n",
       "    <tr>\n",
       "      <th>instrumentalness</th>\n",
       "      <td>-0.178058</td>\n",
       "      <td>-0.204042</td>\n",
       "      <td>-0.005295</td>\n",
       "      <td>0.019822</td>\n",
       "      <td>-0.217532</td>\n",
       "      <td>0.003279</td>\n",
       "      <td>-0.101154</td>\n",
       "      <td>0.008665</td>\n",
       "      <td>1.000000</td>\n",
       "      <td>-0.007888</td>\n",
       "      <td>-0.181839</td>\n",
       "      <td>0.014341</td>\n",
       "      <td>0.189901</td>\n",
       "      <td>-0.044933</td>\n",
       "    </tr>\n",
       "    <tr>\n",
       "      <th>liveness</th>\n",
       "      <td>-0.063094</td>\n",
       "      <td>-0.121727</td>\n",
       "      <td>0.187063</td>\n",
       "      <td>-0.001241</td>\n",
       "      <td>0.091735</td>\n",
       "      <td>0.004105</td>\n",
       "      <td>0.075156</td>\n",
       "      <td>-0.101447</td>\n",
       "      <td>-0.007888</td>\n",
       "      <td>1.000000</td>\n",
       "      <td>0.004310</td>\n",
       "      <td>0.019334</td>\n",
       "      <td>0.054239</td>\n",
       "      <td>0.007636</td>\n",
       "    </tr>\n",
       "    <tr>\n",
       "      <th>valence</th>\n",
       "      <td>0.048331</td>\n",
       "      <td>0.447822</td>\n",
       "      <td>0.140430</td>\n",
       "      <td>0.021301</td>\n",
       "      <td>0.100320</td>\n",
       "      <td>0.000811</td>\n",
       "      <td>0.046338</td>\n",
       "      <td>-0.057286</td>\n",
       "      <td>-0.181839</td>\n",
       "      <td>0.004310</td>\n",
       "      <td>1.000000</td>\n",
       "      <td>0.020771</td>\n",
       "      <td>-0.204194</td>\n",
       "      <td>0.104969</td>\n",
       "    </tr>\n",
       "    <tr>\n",
       "      <th>tempo</th>\n",
       "      <td>-0.015046</td>\n",
       "      <td>-0.208472</td>\n",
       "      <td>0.182729</td>\n",
       "      <td>0.003715</td>\n",
       "      <td>0.130949</td>\n",
       "      <td>0.021988</td>\n",
       "      <td>0.043796</td>\n",
       "      <td>-0.144261</td>\n",
       "      <td>0.014341</td>\n",
       "      <td>0.019334</td>\n",
       "      <td>0.020771</td>\n",
       "      <td>1.000000</td>\n",
       "      <td>-0.020631</td>\n",
       "      <td>-0.037845</td>\n",
       "    </tr>\n",
       "    <tr>\n",
       "      <th>duration_ms</th>\n",
       "      <td>-0.063273</td>\n",
       "      <td>-0.256813</td>\n",
       "      <td>0.012026</td>\n",
       "      <td>0.009707</td>\n",
       "      <td>-0.119737</td>\n",
       "      <td>-0.011519</td>\n",
       "      <td>-0.137000</td>\n",
       "      <td>-0.057369</td>\n",
       "      <td>0.189901</td>\n",
       "      <td>0.054239</td>\n",
       "      <td>-0.204194</td>\n",
       "      <td>-0.020631</td>\n",
       "      <td>1.000000</td>\n",
       "      <td>-0.069256</td>\n",
       "    </tr>\n",
       "    <tr>\n",
       "      <th>time_signature</th>\n",
       "      <td>0.051997</td>\n",
       "      <td>0.134895</td>\n",
       "      <td>0.128287</td>\n",
       "      <td>0.008026</td>\n",
       "      <td>0.109259</td>\n",
       "      <td>-0.011612</td>\n",
       "      <td>0.058654</td>\n",
       "      <td>-0.111524</td>\n",
       "      <td>-0.044933</td>\n",
       "      <td>0.007636</td>\n",
       "      <td>0.104969</td>\n",
       "      <td>-0.037845</td>\n",
       "      <td>-0.069256</td>\n",
       "      <td>1.000000</td>\n",
       "    </tr>\n",
       "  </tbody>\n",
       "</table>\n",
       "</div>"
      ],
      "text/plain": [
       "                  Popularity  danceability    energy       key  loudness  \\\n",
       "Popularity          1.000000      0.132513  0.021677 -0.004728  0.112898   \n",
       "danceability        0.132513      1.000000 -0.193858  0.010960 -0.032638   \n",
       "energy              0.021677     -0.193858  1.000000  0.017868  0.730107   \n",
       "key                -0.004728      0.010960  0.017868  1.000000 -0.005034   \n",
       "loudness            0.112898     -0.032638  0.730107 -0.005034  1.000000   \n",
       "mode                0.017165     -0.062577 -0.014122 -0.150879 -0.029048   \n",
       "speechiness         0.033313      0.205668  0.092031  0.014626  0.064302   \n",
       "acousticness       -0.084926      0.089161 -0.700193 -0.003517 -0.538651   \n",
       "instrumentalness   -0.178058     -0.204042 -0.005295  0.019822 -0.217532   \n",
       "liveness           -0.063094     -0.121727  0.187063 -0.001241  0.091735   \n",
       "valence             0.048331      0.447822  0.140430  0.021301  0.100320   \n",
       "tempo              -0.015046     -0.208472  0.182729  0.003715  0.130949   \n",
       "duration_ms        -0.063273     -0.256813  0.012026  0.009707 -0.119737   \n",
       "time_signature      0.051997      0.134895  0.128287  0.008026  0.109259   \n",
       "\n",
       "                      mode  speechiness  acousticness  instrumentalness  \\\n",
       "Popularity        0.017165     0.033313     -0.084926         -0.178058   \n",
       "danceability     -0.062577     0.205668      0.089161         -0.204042   \n",
       "energy           -0.014122     0.092031     -0.700193         -0.005295   \n",
       "key              -0.150879     0.014626     -0.003517          0.019822   \n",
       "loudness         -0.029048     0.064302     -0.538651         -0.217532   \n",
       "mode              1.000000    -0.057342      0.005796          0.003279   \n",
       "speechiness      -0.057342     1.000000     -0.063727         -0.101154   \n",
       "acousticness      0.005796    -0.063727      1.000000          0.008665   \n",
       "instrumentalness  0.003279    -0.101154      0.008665          1.000000   \n",
       "liveness          0.004105     0.075156     -0.101447         -0.007888   \n",
       "valence           0.000811     0.046338     -0.057286         -0.181839   \n",
       "tempo             0.021988     0.043796     -0.144261          0.014341   \n",
       "duration_ms      -0.011519    -0.137000     -0.057369          0.189901   \n",
       "time_signature   -0.011612     0.058654     -0.111524         -0.044933   \n",
       "\n",
       "                  liveness   valence     tempo  duration_ms  time_signature  \n",
       "Popularity       -0.063094  0.048331 -0.015046    -0.063273        0.051997  \n",
       "danceability     -0.121727  0.447822 -0.208472    -0.256813        0.134895  \n",
       "energy            0.187063  0.140430  0.182729     0.012026        0.128287  \n",
       "key              -0.001241  0.021301  0.003715     0.009707        0.008026  \n",
       "loudness          0.091735  0.100320  0.130949    -0.119737        0.109259  \n",
       "mode              0.004105  0.000811  0.021988    -0.011519       -0.011612  \n",
       "speechiness       0.075156  0.046338  0.043796    -0.137000        0.058654  \n",
       "acousticness     -0.101447 -0.057286 -0.144261    -0.057369       -0.111524  \n",
       "instrumentalness -0.007888 -0.181839  0.014341     0.189901       -0.044933  \n",
       "liveness          1.000000  0.004310  0.019334     0.054239        0.007636  \n",
       "valence           0.004310  1.000000  0.020771    -0.204194        0.104969  \n",
       "tempo             0.019334  0.020771  1.000000    -0.020631       -0.037845  \n",
       "duration_ms       0.054239 -0.204194 -0.020631     1.000000       -0.069256  \n",
       "time_signature    0.007636  0.104969 -0.037845    -0.069256        1.000000  "
      ]
     },
     "execution_count": 20,
     "metadata": {},
     "output_type": "execute_result"
    }
   ],
   "source": [
    "df_cleaned.corr()"
   ]
  },
  {
   "cell_type": "code",
   "execution_count": 21,
   "id": "a1266fc5",
   "metadata": {},
   "outputs": [
    {
     "data": {
      "text/html": [
       "<div>\n",
       "<style scoped>\n",
       "    .dataframe tbody tr th:only-of-type {\n",
       "        vertical-align: middle;\n",
       "    }\n",
       "\n",
       "    .dataframe tbody tr th {\n",
       "        vertical-align: top;\n",
       "    }\n",
       "\n",
       "    .dataframe thead th {\n",
       "        text-align: right;\n",
       "    }\n",
       "</style>\n",
       "<table border=\"1\" class=\"dataframe\">\n",
       "  <thead>\n",
       "    <tr style=\"text-align: right;\">\n",
       "      <th></th>\n",
       "      <th>Popularity</th>\n",
       "      <th>danceability</th>\n",
       "      <th>energy</th>\n",
       "      <th>key</th>\n",
       "      <th>loudness</th>\n",
       "      <th>mode</th>\n",
       "      <th>speechiness</th>\n",
       "      <th>acousticness</th>\n",
       "      <th>instrumentalness</th>\n",
       "      <th>liveness</th>\n",
       "      <th>valence</th>\n",
       "      <th>tempo</th>\n",
       "      <th>duration_ms</th>\n",
       "      <th>time_signature</th>\n",
       "    </tr>\n",
       "  </thead>\n",
       "  <tbody>\n",
       "    <tr>\n",
       "      <th>0</th>\n",
       "      <td>66</td>\n",
       "      <td>0.457</td>\n",
       "      <td>0.909</td>\n",
       "      <td>0</td>\n",
       "      <td>-9.451</td>\n",
       "      <td>1</td>\n",
       "      <td>0.0317</td>\n",
       "      <td>0.001600</td>\n",
       "      <td>0.000276</td>\n",
       "      <td>0.1350</td>\n",
       "      <td>0.755</td>\n",
       "      <td>115.998</td>\n",
       "      <td>156667</td>\n",
       "      <td>4</td>\n",
       "    </tr>\n",
       "    <tr>\n",
       "      <th>1</th>\n",
       "      <td>60</td>\n",
       "      <td>0.582</td>\n",
       "      <td>0.817</td>\n",
       "      <td>0</td>\n",
       "      <td>-6.475</td>\n",
       "      <td>1</td>\n",
       "      <td>0.0399</td>\n",
       "      <td>0.001700</td>\n",
       "      <td>0.015800</td>\n",
       "      <td>0.5750</td>\n",
       "      <td>0.622</td>\n",
       "      <td>155.124</td>\n",
       "      <td>198366</td>\n",
       "      <td>4</td>\n",
       "    </tr>\n",
       "    <tr>\n",
       "      <th>2</th>\n",
       "      <td>51</td>\n",
       "      <td>0.525</td>\n",
       "      <td>0.976</td>\n",
       "      <td>0</td>\n",
       "      <td>-2.023</td>\n",
       "      <td>1</td>\n",
       "      <td>0.0479</td>\n",
       "      <td>0.066200</td>\n",
       "      <td>0.000392</td>\n",
       "      <td>0.0804</td>\n",
       "      <td>0.855</td>\n",
       "      <td>138.984</td>\n",
       "      <td>192695</td>\n",
       "      <td>4</td>\n",
       "    </tr>\n",
       "    <tr>\n",
       "      <th>3</th>\n",
       "      <td>47</td>\n",
       "      <td>0.210</td>\n",
       "      <td>0.870</td>\n",
       "      <td>5</td>\n",
       "      <td>-5.985</td>\n",
       "      <td>1</td>\n",
       "      <td>0.0606</td>\n",
       "      <td>0.000147</td>\n",
       "      <td>0.000488</td>\n",
       "      <td>0.1880</td>\n",
       "      <td>0.517</td>\n",
       "      <td>168.352</td>\n",
       "      <td>264067</td>\n",
       "      <td>4</td>\n",
       "    </tr>\n",
       "    <tr>\n",
       "      <th>4</th>\n",
       "      <td>57</td>\n",
       "      <td>0.692</td>\n",
       "      <td>0.799</td>\n",
       "      <td>1</td>\n",
       "      <td>-7.924</td>\n",
       "      <td>1</td>\n",
       "      <td>0.1640</td>\n",
       "      <td>0.388000</td>\n",
       "      <td>0.000000</td>\n",
       "      <td>0.3010</td>\n",
       "      <td>0.549</td>\n",
       "      <td>97.978</td>\n",
       "      <td>199667</td>\n",
       "      <td>4</td>\n",
       "    </tr>\n",
       "  </tbody>\n",
       "</table>\n",
       "</div>"
      ],
      "text/plain": [
       "   Popularity  danceability  energy  key  loudness  mode  speechiness  \\\n",
       "0          66         0.457   0.909    0    -9.451     1       0.0317   \n",
       "1          60         0.582   0.817    0    -6.475     1       0.0399   \n",
       "2          51         0.525   0.976    0    -2.023     1       0.0479   \n",
       "3          47         0.210   0.870    5    -5.985     1       0.0606   \n",
       "4          57         0.692   0.799    1    -7.924     1       0.1640   \n",
       "\n",
       "   acousticness  instrumentalness  liveness  valence    tempo  duration_ms  \\\n",
       "0      0.001600          0.000276    0.1350    0.755  115.998       156667   \n",
       "1      0.001700          0.015800    0.5750    0.622  155.124       198366   \n",
       "2      0.066200          0.000392    0.0804    0.855  138.984       192695   \n",
       "3      0.000147          0.000488    0.1880    0.517  168.352       264067   \n",
       "4      0.388000          0.000000    0.3010    0.549   97.978       199667   \n",
       "\n",
       "   time_signature  \n",
       "0               4  \n",
       "1               4  \n",
       "2               4  \n",
       "3               4  \n",
       "4               4  "
      ]
     },
     "execution_count": 21,
     "metadata": {},
     "output_type": "execute_result"
    }
   ],
   "source": [
    "df_cleaned.head()"
   ]
  },
  {
   "cell_type": "code",
   "execution_count": 22,
   "id": "a558b6b7",
   "metadata": {},
   "outputs": [
    {
     "data": {
      "text/plain": [
       "<AxesSubplot:>"
      ]
     },
     "execution_count": 22,
     "metadata": {},
     "output_type": "execute_result"
    },
    {
     "data": {
      "image/png": "[encoded data removed]",
      "text/plain": [
       "<Figure size 1080x1080 with 2 Axes>"
      ]
     },
     "metadata": {
      "needs_background": "light"
     },
     "output_type": "display_data"
    }
   ],
   "source": [
    "plt.figure(figsize=(15,15))\n",
    "sns.heatmap(df_cleaned.corr(),annot=True,cmap=\"RdYlGn\")"
   ]
  },
  {
   "cell_type": "code",
   "execution_count": 23,
   "id": "62815001",
   "metadata": {},
   "outputs": [],
   "source": [
    "def plot_distplot(feature):\n",
    "    sns.distplot(df_cleaned[feature].dropna(),kde=False,color='darkred',bins=10)\n",
    "    plt.show()"
   ]
  },
  {
   "cell_type": "code",
   "execution_count": 24,
   "id": "a40dd954",
   "metadata": {},
   "outputs": [
    {
     "name": "stderr",
     "output_type": "stream",
     "text": [
      "c:\\users\\admin\\appdata\\local\\programs\\python\\python38\\lib\\site-packages\\seaborn\\distributions.py:2557: FutureWarning: `distplot` is a deprecated function and will be removed in a future version. Please adapt your code to use either `displot` (a figure-level function with similar flexibility) or `histplot` (an axes-level function for histograms).\n",
      "  warnings.warn(msg, FutureWarning)\n"
     ]
    },
    {
     "data": {
      "image/png": "[encoded data removed]",
      "text/plain": [
       "<Figure size 432x288 with 1 Axes>"
      ]
     },
     "metadata": {
      "needs_background": "light"
     },
     "output_type": "display_data"
    },
    {
     "data": {
      "image/png": "[encoded data removed]",
      "text/plain": [
       "<Figure size 432x288 with 1 Axes>"
      ]
     },
     "metadata": {
      "needs_background": "light"
     },
     "output_type": "display_data"
    },
    {
     "data": {
      "image/png": "[encoded data removed]",
      "text/plain": [
       "<Figure size 432x288 with 1 Axes>"
      ]
     },
     "metadata": {
      "needs_background": "light"
     },
     "output_type": "display_data"
    },
    {
     "data": {
      "image/png": "[encoded data removed]",
      "text/plain": [
       "<Figure size 432x288 with 1 Axes>"
      ]
     },
     "metadata": {
      "needs_background": "light"
     },
     "output_type": "display_data"
    },
    {
     "data": {
      "image/png": "[encoded data removed]",
      "text/plain": [
       "<Figure size 432x288 with 1 Axes>"
      ]
     },
     "metadata": {
      "needs_background": "light"
     },
     "output_type": "display_data"
    },
    {
     "data": {
      "image/png": "[encoded data removed]",
      "text/plain": [
       "<Figure size 432x288 with 1 Axes>"
      ]
     },
     "metadata": {
      "needs_background": "light"
     },
     "output_type": "display_data"
    },
    {
     "data": {
      "image/png": "[encoded data removed]",
      "text/plain": [
       "<Figure size 432x288 with 1 Axes>"
      ]
     },
     "metadata": {
      "needs_background": "light"
     },
     "output_type": "display_data"
    },
    {
     "data": {
      "image/png": "[encoded data removed]",
      "text/plain": [
       "<Figure size 432x288 with 1 Axes>"
      ]
     },
     "metadata": {
      "needs_background": "light"
     },
     "output_type": "display_data"
    },
    {
     "data": {
      "image/png": "[encoded data removed]",
      "text/plain": [
       "<Figure size 432x288 with 1 Axes>"
      ]
     },
     "metadata": {
      "needs_background": "light"
     },
     "output_type": "display_data"
    },
    {
     "data": {
      "image/png": "[encoded data removed]",
      "text/plain": [
       "<Figure size 432x288 with 1 Axes>"
      ]
     },
     "metadata": {
      "needs_background": "light"
     },
     "output_type": "display_data"
    },
    {
     "data": {
      "image/png": "[encoded data removed]",
      "text/plain": [
       "<Figure size 432x288 with 1 Axes>"
      ]
     },
     "metadata": {
      "needs_background": "light"
     },
     "output_type": "display_data"
    },
    {
     "data": {
      "image/png": "[encoded data removed]",
      "text/plain": [
       "<Figure size 432x288 with 1 Axes>"
      ]
     },
     "metadata": {
      "needs_background": "light"
     },
     "output_type": "display_data"
    },
    {
     "data": {
      "image/png": "[encoded data removed]",
      "text/plain": [
       "<Figure size 432x288 with 1 Axes>"
      ]
     },
     "metadata": {
      "needs_background": "light"
     },
     "output_type": "display_data"
    },
    {
     "data": {
      "image/png": "[encoded data removed]",
      "text/plain": [
       "<Figure size 432x288 with 1 Axes>"
      ]
     },
     "metadata": {
      "needs_background": "light"
     },
     "output_type": "display_data"
    }
   ],
   "source": [
    "for i in range(len(features)):\n",
    "    plot_distplot(features[i])"
   ]
  },
  {
   "cell_type": "markdown",
   "id": "5daaad30",
   "metadata": {},
   "source": [
    "### Selecting the relevant features"
   ]
  },
  {
   "cell_type": "markdown",
   "id": "37340dc5",
   "metadata": {},
   "source": [
    "Popularity will be used after getting some recommendations using model"
   ]
  },
  {
   "cell_type": "code",
   "execution_count": 25,
   "id": "46779525",
   "metadata": {},
   "outputs": [],
   "source": [
    "df_cleaned = df_cleaned.drop(['Popularity','duration_ms','time_signature','mode'],axis=1)"
   ]
  },
  {
   "cell_type": "code",
   "execution_count": 26,
   "id": "c0e541ef",
   "metadata": {},
   "outputs": [
    {
     "data": {
      "text/html": [
       "<div>\n",
       "<style scoped>\n",
       "    .dataframe tbody tr th:only-of-type {\n",
       "        vertical-align: middle;\n",
       "    }\n",
       "\n",
       "    .dataframe tbody tr th {\n",
       "        vertical-align: top;\n",
       "    }\n",
       "\n",
       "    .dataframe thead th {\n",
       "        text-align: right;\n",
       "    }\n",
       "</style>\n",
       "<table border=\"1\" class=\"dataframe\">\n",
       "  <thead>\n",
       "    <tr style=\"text-align: right;\">\n",
       "      <th></th>\n",
       "      <th>danceability</th>\n",
       "      <th>energy</th>\n",
       "      <th>key</th>\n",
       "      <th>loudness</th>\n",
       "      <th>speechiness</th>\n",
       "      <th>acousticness</th>\n",
       "      <th>instrumentalness</th>\n",
       "      <th>liveness</th>\n",
       "      <th>valence</th>\n",
       "      <th>tempo</th>\n",
       "    </tr>\n",
       "  </thead>\n",
       "  <tbody>\n",
       "    <tr>\n",
       "      <th>0</th>\n",
       "      <td>0.457</td>\n",
       "      <td>0.909</td>\n",
       "      <td>0</td>\n",
       "      <td>-9.451</td>\n",
       "      <td>0.0317</td>\n",
       "      <td>0.001600</td>\n",
       "      <td>0.000276</td>\n",
       "      <td>0.1350</td>\n",
       "      <td>0.755</td>\n",
       "      <td>115.998</td>\n",
       "    </tr>\n",
       "    <tr>\n",
       "      <th>1</th>\n",
       "      <td>0.582</td>\n",
       "      <td>0.817</td>\n",
       "      <td>0</td>\n",
       "      <td>-6.475</td>\n",
       "      <td>0.0399</td>\n",
       "      <td>0.001700</td>\n",
       "      <td>0.015800</td>\n",
       "      <td>0.5750</td>\n",
       "      <td>0.622</td>\n",
       "      <td>155.124</td>\n",
       "    </tr>\n",
       "    <tr>\n",
       "      <th>2</th>\n",
       "      <td>0.525</td>\n",
       "      <td>0.976</td>\n",
       "      <td>0</td>\n",
       "      <td>-2.023</td>\n",
       "      <td>0.0479</td>\n",
       "      <td>0.066200</td>\n",
       "      <td>0.000392</td>\n",
       "      <td>0.0804</td>\n",
       "      <td>0.855</td>\n",
       "      <td>138.984</td>\n",
       "    </tr>\n",
       "    <tr>\n",
       "      <th>3</th>\n",
       "      <td>0.210</td>\n",
       "      <td>0.870</td>\n",
       "      <td>5</td>\n",
       "      <td>-5.985</td>\n",
       "      <td>0.0606</td>\n",
       "      <td>0.000147</td>\n",
       "      <td>0.000488</td>\n",
       "      <td>0.1880</td>\n",
       "      <td>0.517</td>\n",
       "      <td>168.352</td>\n",
       "    </tr>\n",
       "    <tr>\n",
       "      <th>4</th>\n",
       "      <td>0.692</td>\n",
       "      <td>0.799</td>\n",
       "      <td>1</td>\n",
       "      <td>-7.924</td>\n",
       "      <td>0.1640</td>\n",
       "      <td>0.388000</td>\n",
       "      <td>0.000000</td>\n",
       "      <td>0.3010</td>\n",
       "      <td>0.549</td>\n",
       "      <td>97.978</td>\n",
       "    </tr>\n",
       "  </tbody>\n",
       "</table>\n",
       "</div>"
      ],
      "text/plain": [
       "   danceability  energy  key  loudness  speechiness  acousticness  \\\n",
       "0         0.457   0.909    0    -9.451       0.0317      0.001600   \n",
       "1         0.582   0.817    0    -6.475       0.0399      0.001700   \n",
       "2         0.525   0.976    0    -2.023       0.0479      0.066200   \n",
       "3         0.210   0.870    5    -5.985       0.0606      0.000147   \n",
       "4         0.692   0.799    1    -7.924       0.1640      0.388000   \n",
       "\n",
       "   instrumentalness  liveness  valence    tempo  \n",
       "0          0.000276    0.1350    0.755  115.998  \n",
       "1          0.015800    0.5750    0.622  155.124  \n",
       "2          0.000392    0.0804    0.855  138.984  \n",
       "3          0.000488    0.1880    0.517  168.352  \n",
       "4          0.000000    0.3010    0.549   97.978  "
      ]
     },
     "execution_count": 26,
     "metadata": {},
     "output_type": "execute_result"
    }
   ],
   "source": [
    "df_cleaned.head()"
   ]
  },
  {
   "cell_type": "code",
   "execution_count": 27,
   "id": "9e1f005d",
   "metadata": {},
   "outputs": [
    {
     "data": {
      "text/plain": [
       "18554"
      ]
     },
     "execution_count": 27,
     "metadata": {},
     "output_type": "execute_result"
    }
   ],
   "source": [
    "len(df_cleaned)"
   ]
  },
  {
   "cell_type": "markdown",
   "id": "68177811",
   "metadata": {},
   "source": [
    "### Scaling the features to same level"
   ]
  },
  {
   "cell_type": "code",
   "execution_count": 59,
   "id": "af06104b",
   "metadata": {},
   "outputs": [],
   "source": [
    "from sklearn.preprocessing import MinMaxScaler"
   ]
  },
  {
   "cell_type": "code",
   "execution_count": 60,
   "id": "224a5eb8",
   "metadata": {},
   "outputs": [],
   "source": [
    "scaler = MinMaxScaler()"
   ]
  },
  {
   "cell_type": "code",
   "execution_count": 61,
   "id": "fd16b810",
   "metadata": {},
   "outputs": [],
   "source": [
    "scaled_model = scaler.fit(df_cleaned)"
   ]
  },
  {
   "cell_type": "code",
   "execution_count": 62,
   "id": "f63c6b01",
   "metadata": {},
   "outputs": [],
   "source": [
    "scaled_features = scaler.transform(df_cleaned)"
   ]
  },
  {
   "cell_type": "code",
   "execution_count": 63,
   "id": "248b9a82",
   "metadata": {},
   "outputs": [],
   "source": [
    "df_cleaned = pd.DataFrame(scaled_features,columns=df_cleaned.columns)"
   ]
  },
  {
   "cell_type": "code",
   "execution_count": 64,
   "id": "f112b701",
   "metadata": {},
   "outputs": [
    {
     "data": {
      "text/html": [
       "<div>\n",
       "<style scoped>\n",
       "    .dataframe tbody tr th:only-of-type {\n",
       "        vertical-align: middle;\n",
       "    }\n",
       "\n",
       "    .dataframe tbody tr th {\n",
       "        vertical-align: top;\n",
       "    }\n",
       "\n",
       "    .dataframe thead th {\n",
       "        text-align: right;\n",
       "    }\n",
       "</style>\n",
       "<table border=\"1\" class=\"dataframe\">\n",
       "  <thead>\n",
       "    <tr style=\"text-align: right;\">\n",
       "      <th></th>\n",
       "      <th>danceability</th>\n",
       "      <th>energy</th>\n",
       "      <th>key</th>\n",
       "      <th>loudness</th>\n",
       "      <th>speechiness</th>\n",
       "      <th>acousticness</th>\n",
       "      <th>instrumentalness</th>\n",
       "      <th>liveness</th>\n",
       "      <th>valence</th>\n",
       "      <th>tempo</th>\n",
       "    </tr>\n",
       "  </thead>\n",
       "  <tbody>\n",
       "    <tr>\n",
       "      <th>0</th>\n",
       "      <td>0.462083</td>\n",
       "      <td>0.908998</td>\n",
       "      <td>0.000000</td>\n",
       "      <td>0.701327</td>\n",
       "      <td>0.033021</td>\n",
       "      <td>0.001606</td>\n",
       "      <td>0.000277</td>\n",
       "      <td>0.125599</td>\n",
       "      <td>0.765720</td>\n",
       "      <td>0.465037</td>\n",
       "    </tr>\n",
       "    <tr>\n",
       "      <th>1</th>\n",
       "      <td>0.588473</td>\n",
       "      <td>0.816996</td>\n",
       "      <td>0.000000</td>\n",
       "      <td>0.783582</td>\n",
       "      <td>0.041563</td>\n",
       "      <td>0.001707</td>\n",
       "      <td>0.015863</td>\n",
       "      <td>0.574533</td>\n",
       "      <td>0.630832</td>\n",
       "      <td>0.621894</td>\n",
       "    </tr>\n",
       "    <tr>\n",
       "      <th>2</th>\n",
       "      <td>0.530839</td>\n",
       "      <td>0.976000</td>\n",
       "      <td>0.000000</td>\n",
       "      <td>0.906633</td>\n",
       "      <td>0.049896</td>\n",
       "      <td>0.066466</td>\n",
       "      <td>0.000394</td>\n",
       "      <td>0.069891</td>\n",
       "      <td>0.867140</td>\n",
       "      <td>0.557189</td>\n",
       "    </tr>\n",
       "    <tr>\n",
       "      <th>3</th>\n",
       "      <td>0.212336</td>\n",
       "      <td>0.869997</td>\n",
       "      <td>0.454545</td>\n",
       "      <td>0.797125</td>\n",
       "      <td>0.063125</td>\n",
       "      <td>0.000148</td>\n",
       "      <td>0.000490</td>\n",
       "      <td>0.179676</td>\n",
       "      <td>0.524341</td>\n",
       "      <td>0.674925</td>\n",
       "    </tr>\n",
       "    <tr>\n",
       "      <th>4</th>\n",
       "      <td>0.699697</td>\n",
       "      <td>0.798996</td>\n",
       "      <td>0.090909</td>\n",
       "      <td>0.743532</td>\n",
       "      <td>0.170833</td>\n",
       "      <td>0.389558</td>\n",
       "      <td>0.000000</td>\n",
       "      <td>0.294970</td>\n",
       "      <td>0.556795</td>\n",
       "      <td>0.392795</td>\n",
       "    </tr>\n",
       "  </tbody>\n",
       "</table>\n",
       "</div>"
      ],
      "text/plain": [
       "   danceability    energy       key  loudness  speechiness  acousticness  \\\n",
       "0      0.462083  0.908998  0.000000  0.701327     0.033021      0.001606   \n",
       "1      0.588473  0.816996  0.000000  0.783582     0.041563      0.001707   \n",
       "2      0.530839  0.976000  0.000000  0.906633     0.049896      0.066466   \n",
       "3      0.212336  0.869997  0.454545  0.797125     0.063125      0.000148   \n",
       "4      0.699697  0.798996  0.090909  0.743532     0.170833      0.389558   \n",
       "\n",
       "   instrumentalness  liveness   valence     tempo  \n",
       "0          0.000277  0.125599  0.765720  0.465037  \n",
       "1          0.015863  0.574533  0.630832  0.621894  \n",
       "2          0.000394  0.069891  0.867140  0.557189  \n",
       "3          0.000490  0.179676  0.524341  0.674925  \n",
       "4          0.000000  0.294970  0.556795  0.392795  "
      ]
     },
     "execution_count": 64,
     "metadata": {},
     "output_type": "execute_result"
    }
   ],
   "source": [
    "df_cleaned.head()"
   ]
  },
  {
   "cell_type": "code",
   "execution_count": 65,
   "id": "2e0a3ea1",
   "metadata": {},
   "outputs": [],
   "source": [
    "import pickle"
   ]
  },
  {
   "cell_type": "code",
   "execution_count": 67,
   "id": "1747474f",
   "metadata": {},
   "outputs": [],
   "source": [
    "filename = 'scaler.pkl'\n",
    "pickle.dump(scaler,open(filename,'wb'))"
   ]
  },
  {
   "cell_type": "markdown",
   "id": "1e09dc72",
   "metadata": {},
   "source": [
    "### Building the model"
   ]
  },
  {
   "cell_type": "code",
   "execution_count": 68,
   "id": "2a8de707",
   "metadata": {},
   "outputs": [],
   "source": [
    "from sklearn.neighbors import NearestNeighbors"
   ]
  },
  {
   "cell_type": "code",
   "execution_count": 69,
   "id": "8633c922",
   "metadata": {},
   "outputs": [
    {
     "data": {
      "text/plain": [
       "NearestNeighbors(algorithm='brute', metric='cosine')"
      ]
     },
     "execution_count": 69,
     "metadata": {},
     "output_type": "execute_result"
    }
   ],
   "source": [
    "model_knn = NearestNeighbors(metric = 'cosine', algorithm = 'brute')\n",
    "model_knn.fit(df_cleaned)"
   ]
  },
  {
   "cell_type": "markdown",
   "id": "07f6ae65",
   "metadata": {},
   "source": [
    "### Making some recommendation"
   ]
  },
  {
   "cell_type": "code",
   "execution_count": 70,
   "id": "f6bcb6da",
   "metadata": {},
   "outputs": [
    {
     "name": "stdout",
     "output_type": "stream",
     "text": [
      "1832\n"
     ]
    }
   ],
   "source": [
    "query_index = np.random.choice(df.shape[0])\n",
    "print(query_index)"
   ]
  },
  {
   "cell_type": "code",
   "execution_count": 71,
   "id": "485b942f",
   "metadata": {},
   "outputs": [
    {
     "data": {
      "text/plain": [
       "Artist Name    Lorenzo_BITW\n",
       "Track Name           Pantea\n",
       "Name: 1975, dtype: object"
      ]
     },
     "execution_count": 71,
     "metadata": {},
     "output_type": "execute_result"
    }
   ],
   "source": [
    "df.iloc[query_index,:2]"
   ]
  },
  {
   "cell_type": "code",
   "execution_count": 72,
   "id": "ed128d07",
   "metadata": {},
   "outputs": [],
   "source": [
    "distances, indices = model_knn.kneighbors(df_cleaned.iloc[query_index,:].values.reshape(1, -1), n_neighbors = 11)"
   ]
  },
  {
   "cell_type": "code",
   "execution_count": 73,
   "id": "640a4cc5",
   "metadata": {},
   "outputs": [
    {
     "name": "stdout",
     "output_type": "stream",
     "text": [
      "1: 50//50 Vantage, with distance of 0.002241041417581302:\n",
      "2: Dragonfly Enamour, with distance of 0.006056166264282958:\n",
      "3: Monolith Qrion, with distance of 0.006292184002661405:\n",
      "4: Next Hype - Instrumental Tempa T, with distance of 0.006892279073902219:\n",
      "5: Cavern Liquid Liquid, with distance of 0.007123578050407087:\n",
      "6: Hope Booka Shade, with distance of 0.007839570647413585:\n",
      "7: Absinthe & A Cracker TU, with distance of 0.007950495120589762:\n",
      "8: HNDI Sasha, with distance of 0.008187664199371891:\n",
      "9: The Yancey Glenn Astro, with distance of 0.01096539451245715:\n",
      "10: Press Enter To Exit The Horrors, with distance of 0.010981680860880028:\n"
     ]
    }
   ],
   "source": [
    "music_list = []\n",
    "for i in range(0, len(distances.flatten())):\n",
    "    if i == 0:\n",
    "        pass\n",
    "    else:\n",
    "        print('{0}: {1}, with distance of {2}:'.format(i, df.iloc[indices.flatten()[i],22], distances.flatten()[i]))\n",
    "        temp = [df.iloc[indices.flatten()[i],0],df.iloc[indices.flatten()[i],1],distances.flatten()[i],df.iloc[indices.flatten()[i],2]]\n",
    "        music_list.append(temp)"
   ]
  },
  {
   "cell_type": "markdown",
   "id": "70b90b29",
   "metadata": {},
   "source": [
    "### Recommending based on popularity and all features"
   ]
  },
  {
   "cell_type": "code",
   "execution_count": 74,
   "id": "acc6a150",
   "metadata": {},
   "outputs": [],
   "source": [
    "music_list.sort(key= lambda X:X[3])"
   ]
  },
  {
   "cell_type": "code",
   "execution_count": 76,
   "id": "a03b8d8c",
   "metadata": {},
   "outputs": [
    {
     "name": "stdout",
     "output_type": "stream",
     "text": [
      "1: Next Hype - Instrumental by Tempa T\n",
      "2: Absinthe & A Cracker by TU\n",
      "3: HNDI by Sasha\n",
      "4: The Yancey by Glenn Astro\n",
      "5: Dragonfly by Enamour\n",
      "6: Monolith by Qrion\n",
      "7: Cavern by Liquid Liquid\n",
      "8: Hope by Booka Shade\n",
      "9: Press Enter To Exit by The Horrors\n",
      "10: 50//50 by Vantage\n"
     ]
    }
   ],
   "source": [
    "for i in range(len(music_list)):\n",
    "    print('{0}: {1} by {2}'.format(i+1,music_list[i][1],music_list[i][0]))"
   ]
  },
  {
   "cell_type": "code",
   "execution_count": 77,
   "id": "9be9ebe9",
   "metadata": {},
   "outputs": [],
   "source": [
    "filename1 = 'nn_recommender.pkl'"
   ]
  },
  {
   "cell_type": "code",
   "execution_count": 78,
   "id": "c744d8d7",
   "metadata": {},
   "outputs": [],
   "source": [
    "pickle.dump(model_knn,open(filename1,'wb'))"
   ]
  },
  {
   "cell_type": "code",
   "execution_count": 79,
   "id": "17571d5a",
   "metadata": {},
   "outputs": [],
   "source": [
    "df.to_csv('dataset.csv',index=False)"
   ]
  },
  {
   "cell_type": "code",
   "execution_count": null,
   "id": "d00e55d7",
   "metadata": {},
   "outputs": [],
   "source": []
  }
 ],
 "metadata": {
  "kernelspec": {
   "display_name": "Python 3 (ipykernel)",
   "language": "python",
   "name": "python3"
  },
  "language_info": {
   "codemirror_mode": {
    "name": "ipython",
    "version": 3
   },
   "file_extension": ".py",
   "mimetype": "text/x-python",
   "name": "python",
   "nbconvert_exporter": "python",
   "pygments_lexer": "ipython3",
   "version": "3.8.10"
  }
 },
 "nbformat": 4,
 "nbformat_minor": 5
}
